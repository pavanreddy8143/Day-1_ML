{
  "nbformat": 4,
  "nbformat_minor": 0,
  "metadata": {
    "colab": {
      "name": "Day-1_ML.ipynb",
      "provenance": [],
      "authorship_tag": "ABX9TyNxrngr1HtexmmW7ERmUXen",
      "include_colab_link": true
    },
    "kernelspec": {
      "name": "python3",
      "display_name": "Python 3"
    },
    "language_info": {
      "name": "python"
    }
  },
  "cells": [
    {
      "cell_type": "markdown",
      "metadata": {
        "id": "view-in-github",
        "colab_type": "text"
      },
      "source": [
        "<a href=\"https://colab.research.google.com/github/pavanreddy8143/Day-1_ML/blob/main/Day_1_ML.ipynb\" target=\"_parent\"><img src=\"https://colab.research.google.com/assets/colab-badge.svg\" alt=\"Open In Colab\"/></a>"
      ]
    },
    {
      "cell_type": "markdown",
      "metadata": {
        "id": "21vozOnlxooU"
      },
      "source": [
        "**NUMPY**"
      ]
    },
    {
      "cell_type": "code",
      "metadata": {
        "colab": {
          "base_uri": "https://localhost:8080/"
        },
        "id": "id6MUbj-1Fh8",
        "outputId": "42009944-bf25-4d54-ec3a-ea2a3745a9a9"
      },
      "source": [
        "import numpy as np\n",
        "\n",
        "a = [1,2,3,4,5]\n",
        "\n",
        "arr1 = np.array(a)\n",
        "\n",
        "b = [[1,2,3,4], [5,6,7,8]]\n",
        "\n",
        "arr2 = np.array(b)\n",
        "\n",
        "print(arr1)\n",
        "print(arr2)"
      ],
      "execution_count": 1,
      "outputs": [
        {
          "output_type": "stream",
          "text": [
            "[1 2 3 4 5]\n",
            "[[1 2 3 4]\n",
            " [5 6 7 8]]\n"
          ],
          "name": "stdout"
        }
      ]
    },
    {
      "cell_type": "code",
      "metadata": {
        "colab": {
          "base_uri": "https://localhost:8080/"
        },
        "id": "VfSiP8Er1JHn",
        "outputId": "f4e8bc74-d2ca-463f-f69d-4c99f77a9d9a"
      },
      "source": [
        "print(type(a),\n",
        "type(arr1),\n",
        "type(b),\n",
        "type(arr2),)"
      ],
      "execution_count": 2,
      "outputs": [
        {
          "output_type": "stream",
          "text": [
            "<class 'list'> <class 'numpy.ndarray'> <class 'list'> <class 'numpy.ndarray'>\n"
          ],
          "name": "stdout"
        }
      ]
    },
    {
      "cell_type": "code",
      "metadata": {
        "colab": {
          "base_uri": "https://localhost:8080/"
        },
        "id": "4JeHUz5L1Tr9",
        "outputId": "f89044f9-49ac-44cf-c715-16018a5ec46c"
      },
      "source": [
        "import sys\n",
        "\n",
        "s = range(1000)\n",
        "\n",
        "print(\"Size of each elements in the list in bytes\", sys.getsizeof(s))\n",
        "\n",
        "print(\"Complete list size in bytes\", sys.getsizeof(s) * len(s))"
      ],
      "execution_count": 3,
      "outputs": [
        {
          "output_type": "stream",
          "text": [
            "Size of each elements in the list in bytes 48\n",
            "Complete list size in bytes 48000\n"
          ],
          "name": "stdout"
        }
      ]
    },
    {
      "cell_type": "code",
      "metadata": {
        "colab": {
          "base_uri": "https://localhost:8080/"
        },
        "id": "U1W38ez62SaK",
        "outputId": "83b357b3-f55a-416c-d736-afbd206854a9"
      },
      "source": [
        "import numpy as np\n",
        "\n",
        "s = np.arange(1000)\n",
        "\n",
        "print(\"Size of each elements in the list by bytes\", s.itemsize)\n",
        "\n",
        "print(\"Complete list size in bytes\", s.size * s.itemsize)"
      ],
      "execution_count": 4,
      "outputs": [
        {
          "output_type": "stream",
          "text": [
            "Size of each elements in the list by bytes 8\n",
            "Complete list size in bytes 8000\n"
          ],
          "name": "stdout"
        }
      ]
    },
    {
      "cell_type": "code",
      "metadata": {
        "colab": {
          "base_uri": "https://localhost:8080/"
        },
        "id": "Dp4ik-8z2YSX",
        "outputId": "1fb9c323-a9d3-4f11-b05d-503ae5d6f01f"
      },
      "source": [
        "import time\n",
        "\n",
        "a = range(1000) # [0 ... 999]\n",
        "b = range(1000) # [0 ... 999]\n",
        "\n",
        "start = time.time()\n",
        "\n",
        "ab = [(a * b) for a,b in zip(a,b)] #List Comprehension\n",
        "\n",
        "# Creating a concised form of complete list and for loop or any other conditional statements\n",
        "\n",
        "end = time.time()\n",
        "\n",
        "print(\"Total time taken\", end - start)"
      ],
      "execution_count": 5,
      "outputs": [
        {
          "output_type": "stream",
          "text": [
            "Total time taken 0.00020384788513183594\n"
          ],
          "name": "stdout"
        }
      ]
    },
    {
      "cell_type": "code",
      "metadata": {
        "colab": {
          "base_uri": "https://localhost:8080/"
        },
        "id": "qhuGECO23bn0",
        "outputId": "e1a75565-c920-43ed-80f1-e2e5ba0c608e"
      },
      "source": [
        "import numpy\n",
        "import time\n",
        "arr1 = np.arange(1000)\n",
        "arr2 = np.arange(1000)\n",
        "\n",
        "start = time.time()\n",
        "\n",
        "arr_mul = arr1 * arr2\n",
        "\n",
        "end = time.time()\n",
        "\n",
        "print(\"Total time taken\", end - start)"
      ],
      "execution_count": 6,
      "outputs": [
        {
          "output_type": "stream",
          "text": [
            "Total time taken 9.489059448242188e-05\n"
          ],
          "name": "stdout"
        }
      ]
    },
    {
      "cell_type": "code",
      "metadata": {
        "colab": {
          "base_uri": "https://localhost:8080/"
        },
        "id": "aGxqVSh63f0Z",
        "outputId": "1e85d58e-bf74-4126-f97b-92475bcf7d20"
      },
      "source": [
        "lst1 = [1,2,3,4]\n",
        "\n",
        "arr = np.array(lst1)\n",
        "\n",
        "print(arr)"
      ],
      "execution_count": 7,
      "outputs": [
        {
          "output_type": "stream",
          "text": [
            "[1 2 3 4]\n"
          ],
          "name": "stdout"
        }
      ]
    },
    {
      "cell_type": "code",
      "metadata": {
        "colab": {
          "base_uri": "https://localhost:8080/"
        },
        "id": "ehlHAvzG3vd_",
        "outputId": "6e39a950-efbf-4df7-df7e-720a01471cac"
      },
      "source": [
        "print(arr + 1)"
      ],
      "execution_count": 8,
      "outputs": [
        {
          "output_type": "stream",
          "text": [
            "[2 3 4 5]\n"
          ],
          "name": "stdout"
        }
      ]
    },
    {
      "cell_type": "code",
      "metadata": {
        "id": "_KMcKTbS30w_"
      },
      "source": [
        ""
      ],
      "execution_count": null,
      "outputs": []
    }
  ]
}